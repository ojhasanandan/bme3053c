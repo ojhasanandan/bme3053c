{
  "cells":[
    {
      "cell_type": "code",
      "source": [
        "example_number = 5"
      ],
      "metadata": {
        "id": "_wSGRYfR0r-4"
      },
      "execution_count": null,
      "outputs": [bp_readings = [120, 137, 151, 123, 162, 173, 127, 154]

def norm(readings):
  min = min(readings);
  max = max(readings);
  for i in range(len(readings)):
    norm_readings[i] = readings-min / (max-min);
  return norm_readings

norm_readings = norm(bp_readings);
print(norm_readings)]
}
