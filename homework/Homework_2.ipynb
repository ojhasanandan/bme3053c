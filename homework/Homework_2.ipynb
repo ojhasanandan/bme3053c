{
  "nbformat": 4,
  "nbformat_minor": 0,
  "metadata": {
    "colab": {
      "provenance": []
    },
    "kernelspec": {
      "name": "python3",
      "display_name": "Python 3"
    },
    "language_info": {
      "name": "python"
    }
  },
  "cells": [
    {
      "cell_type": "markdown",
      "source": [
        "Homework #2"
      ],
      "metadata": {
        "id": "liXGSh7LHNfA"
      }
    },
    {
      "cell_type": "code",
      "execution_count": null,
      "metadata": {
        "colab": {
          "base_uri": "https://localhost:8080/"
        },
        "id": "iQw1T9KSFgMd",
        "outputId": "c289e824-3efe-491e-d46c-07803da05f63"
      },
      "outputs": [
        {
          "output_type": "stream",
          "name": "stdout",
          "text": [
            "[0.0, 0.32075471698113206, 0.5849056603773585, 0.05660377358490566, 0.7924528301886793, 1.0, 0.1320754716981132, 0.6415094339622641]\n"
          ]
        }
      ],
      "source": [
        "bp_readings = [120, 137, 151, 123, 162, 173, 127, 154]\n",
        "\n",
        "def norm(readings):\n",
        "  min_reading = min(readings);\n",
        "  max_reading = max(readings);\n",
        "  for i in range(len(readings)):\n",
        "    readings[i] = (readings[i] - min_reading) / (max_reading - min_reading);\n",
        "  return readings;\n",
        "\n",
        "norm_readings = norm(bp_readings);\n",
        "print(norm_readings)"
      ]
    }
  ]
}