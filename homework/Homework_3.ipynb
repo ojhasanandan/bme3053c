{
  "nbformat": 4,
  "nbformat_minor": 0,
  "metadata": {
    "colab": {
      "provenance": []
    },
    "kernelspec": {
      "name": "python3",
      "display_name": "Python 3"
    },
    "language_info": {
      "name": "python"
    }
  },
  "cells": [
    {
      "cell_type": "markdown",
      "source": [
        "PPG Peak Counter"
      ],
      "metadata": {
        "id": "zYDQDv6AC4ov"
      }
    },
    {
      "cell_type": "code",
      "execution_count": 50,
      "metadata": {
        "colab": {
          "base_uri": "https://localhost:8080/"
        },
        "id": "ycc5Qc2UC0xc",
        "outputId": "07afc339-9086-47ef-ee49-0c495d5197ab"
      },
      "outputs": [
        {
          "output_type": "execute_result",
          "data": {
            "text/plain": [
              "28"
            ]
          },
          "metadata": {},
          "execution_count": 50
        }
      ],
      "source": [
        "import math\n",
        "import random\n",
        "\n",
        "ppg_signal = [1000 + 100 * math.sin(0.1 * x) + random.randint(-20, 20) for x in range(100)];\n",
        "\n",
        "def peak_counter(ppg_signal):\n",
        "  count = 0;\n",
        "  for i in range(1,len(ppg_signal)-1):\n",
        "    if ppg_signal[i] > ppg_signal[i - 1] and ppg_signal[i] > ppg_signal[i + 1]:\n",
        "      count +=1\n",
        "  return count\n",
        "\n",
        "peak_counter(ppg_signal)"
      ]
    },
    {
      "cell_type": "code",
      "source": [
        "range(len(ppg_signal)-1)\n",
        "range(len(ppg_signal))\n",
        "range(1,len(ppg_signal))"
      ],
      "metadata": {
        "colab": {
          "base_uri": "https://localhost:8080/"
        },
        "id": "lHitkvBrFRuL",
        "outputId": "7637e575-3b4b-4431-b81f-47f71aa71036"
      },
      "execution_count": 36,
      "outputs": [
        {
          "output_type": "execute_result",
          "data": {
            "text/plain": [
              "range(1, 100)"
            ]
          },
          "metadata": {},
          "execution_count": 36
        }
      ]
    },
    {
      "cell_type": "code",
      "source": [],
      "metadata": {
        "id": "ZdBcURD0E-s9"
      },
      "execution_count": null,
      "outputs": []
    }
  ]
}